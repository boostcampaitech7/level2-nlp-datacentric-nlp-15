{
 "cells": [
  {
   "cell_type": "code",
   "execution_count": null,
   "metadata": {},
   "outputs": [],
   "source": [
    "import pandas as pd"
   ]
  },
  {
   "cell_type": "code",
   "execution_count": null,
   "metadata": {},
   "outputs": [],
   "source": [
    "ddf = pd.read_csv(\"../data/8564_7000fconcat+deepl_15000.csv\")\n",
    "ddf2 = pd.read_csv(\"../data/nanoised_label_filtered.csv\")\n",
    "ddf2 = ddf2[ddf2['target']!=-1]\n",
    "# ddf3 = pd.read_csv(\"../data/nanoised_filtered_aug3.csv\")\n",
    "\n",
    "df = pd.concat([ddf, ddf2]).reset_index(drop=True)\n",
    "# df.to_csv(\"../data/final2.csv\", index=False, encoding=\"utf-8-sig\")"
   ]
  },
  {
   "cell_type": "code",
   "execution_count": null,
   "metadata": {},
   "outputs": [],
   "source": [
    "import re\n",
    "\n",
    "def filter_sentences(sentences):\n",
    "    english_pattern = re.compile(r'^[a-zA-Z\\s\\.,!?\\'\\\"\\n\\-]+$')\n",
    "    hanja_pattern = re.compile(r'^[\\u4E00-\\u9FFF\\u3400-\\u4DBF\\u20000-\\u2A6DF\\s\\.,!?\\'\\\"\\n\\-]+$')\n",
    "    \n",
    "    if english_pattern.fullmatch(sentences):\n",
    "        print(sentences)\n",
    "        return True\n",
    "    elif hanja_pattern.fullmatch(sentences):\n",
    "        print(sentences)\n",
    "        return True\n",
    "    elif '\\n' in sentences:\n",
    "        print(sentences)\n",
    "        return True\n",
    "    else:\n",
    "        return False"
   ]
  },
  {
   "cell_type": "code",
   "execution_count": null,
   "metadata": {},
   "outputs": [],
   "source": [
    "# df = pd.read_csv(\"../data/final2.csv\")\n",
    "\n",
    "datas = []\n",
    "for i, row in df.iterrows():\n",
    "    result = filter_sentences(row['text'])\n",
    "    if result:\n",
    "        continue\n",
    "    else:\n",
    "        text = row['text'].strip(\"*\\\"'+\")\n",
    "        datas.append({\n",
    "            'ID': row['ID'],\n",
    "            'text': text,\n",
    "            'target': row['target']\n",
    "        })\n",
    "\n",
    "filtered_df = pd.DataFrame(datas)\n",
    "filtered_df.to_csv(\"../data/12000cleanlab+nannoise_8564+nanoised_label_filtered3.csv\", index=False)"
   ]
  },
  {
   "cell_type": "code",
   "execution_count": null,
   "metadata": {},
   "outputs": [],
   "source": [
    "print(len(filtered_df))"
   ]
  }
 ],
 "metadata": {
  "kernelspec": {
   "display_name": "base",
   "language": "python",
   "name": "python3"
  },
  "language_info": {
   "codemirror_mode": {
    "name": "ipython",
    "version": 3
   },
   "file_extension": ".py",
   "mimetype": "text/x-python",
   "name": "python",
   "nbconvert_exporter": "python",
   "pygments_lexer": "ipython3",
   "version": "3.10.13"
  }
 },
 "nbformat": 4,
 "nbformat_minor": 2
}
