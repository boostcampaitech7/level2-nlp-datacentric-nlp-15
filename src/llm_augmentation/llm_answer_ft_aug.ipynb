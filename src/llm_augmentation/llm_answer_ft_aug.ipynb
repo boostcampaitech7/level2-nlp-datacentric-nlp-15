{
 "cells": [
  {
   "cell_type": "code",
   "execution_count": 1,
   "metadata": {},
   "outputs": [],
   "source": [
    "import pandas as pd"
   ]
  },
  {
   "cell_type": "code",
   "metadata": {},
   "source": [
    "df = pd.read_csv(\"restored_train_data6_part1.csv\")\n",
    "df"
   ],
   "outputs": [],
   "execution_count": null
  },
  {
   "cell_type": "code",
   "execution_count": 3,
   "metadata": {},
   "outputs": [
    {
     "name": "stderr",
     "output_type": "stream",
     "text": [
      "/opt/conda/lib/python3.10/site-packages/tqdm/auto.py:21: TqdmWarning: IProgress not found. Please update jupyter and ipywidgets. See https://ipywidgets.readthedocs.io/en/stable/user_install.html\n",
      "  from .autonotebook import tqdm as notebook_tqdm\n",
      "Loading checkpoint shards: 100%|██████████| 10/10 [00:05<00:00,  1.70it/s]\n"
     ]
    },
    {
     "data": {
      "text/plain": [
       "Gemma2ForCausalLM(\n",
       "  (model): Gemma2Model(\n",
       "    (embed_tokens): Embedding(256000, 3584, padding_idx=0)\n",
       "    (layers): ModuleList(\n",
       "      (0-41): 42 x Gemma2DecoderLayer(\n",
       "        (self_attn): Gemma2Attention(\n",
       "          (q_proj): Linear(in_features=3584, out_features=4096, bias=False)\n",
       "          (k_proj): Linear(in_features=3584, out_features=2048, bias=False)\n",
       "          (v_proj): Linear(in_features=3584, out_features=2048, bias=False)\n",
       "          (o_proj): Linear(in_features=4096, out_features=3584, bias=False)\n",
       "          (rotary_emb): Gemma2RotaryEmbedding()\n",
       "        )\n",
       "        (mlp): Gemma2MLP(\n",
       "          (gate_proj): Linear(in_features=3584, out_features=14336, bias=False)\n",
       "          (up_proj): Linear(in_features=3584, out_features=14336, bias=False)\n",
       "          (down_proj): Linear(in_features=14336, out_features=3584, bias=False)\n",
       "          (act_fn): PytorchGELUTanh()\n",
       "        )\n",
       "        (input_layernorm): Gemma2RMSNorm((3584,), eps=1e-06)\n",
       "        (pre_feedforward_layernorm): Gemma2RMSNorm((3584,), eps=1e-06)\n",
       "        (post_feedforward_layernorm): Gemma2RMSNorm((3584,), eps=1e-06)\n",
       "        (post_attention_layernorm): Gemma2RMSNorm((3584,), eps=1e-06)\n",
       "      )\n",
       "    )\n",
       "    (norm): Gemma2RMSNorm((3584,), eps=1e-06)\n",
       "  )\n",
       "  (lm_head): Linear(in_features=3584, out_features=256000, bias=False)\n",
       ")"
      ]
     },
     "execution_count": 3,
     "metadata": {},
     "output_type": "execute_result"
    }
   ],
   "source": [
    "import torch\n",
    "from transformers import AutoTokenizer, AutoModelForCausalLM\n",
    "\n",
    "\n",
    "model_id = \"rtzr/ko-gemma-2-9b-it\"\n",
    "\n",
    "tokenizer = AutoTokenizer.from_pretrained(model_id)\n",
    "model = AutoModelForCausalLM.from_pretrained(\n",
    "    model_id,\n",
    "    torch_dtype=torch.bfloat16,\n",
    "    device_map=\"auto\",\n",
    ")\n",
    "\n",
    "model.eval()"
   ]
  },
  {
   "cell_type": "code",
   "execution_count": 4,
   "metadata": {},
   "outputs": [],
   "source": [
    "instruction = \"\"\"다음 뉴스 기사 제목과 동일한 카테고리에서 나올 기사 제목을 세 개 생성하시오.\n",
    "답변은 오직 제목 세 개만을 포함해야 하며, 불가능한 경우는 없다.\n",
    "\n",
    "### 제목 ###\n",
    "{}\"\"\""
   ]
  },
  {
   "cell_type": "code",
   "execution_count": 5,
   "metadata": {},
   "outputs": [],
   "source": [
    "from tqdm import tqdm"
   ]
  },
  {
   "cell_type": "code",
   "execution_count": 6,
   "metadata": {},
   "outputs": [],
   "source": [
    "def gen_key(id, text):\n",
    "    messages = [\n",
    "        {\"role\": \"user\", \"content\": instruction.format(text)},\n",
    "    ]\n",
    "\n",
    "    input_ids = tokenizer.apply_chat_template(\n",
    "        messages,\n",
    "        add_generation_prompt=True,\n",
    "        return_tensors=\"pt\"\n",
    "    ).to(model.device)\n",
    "\n",
    "    terminators = [\n",
    "        tokenizer.eos_token_id,\n",
    "        tokenizer.convert_tokens_to_ids(\"<end_of_turn>\")\n",
    "    ]\n",
    "\n",
    "    outputs = model.generate(\n",
    "        input_ids,\n",
    "        max_new_tokens=2048,\n",
    "        eos_token_id=terminators,\n",
    "        do_sample=True,\n",
    "        temperature=0.9,\n",
    "        top_p=0.9,\n",
    "    )\n",
    "\n",
    "    pred = tokenizer.decode(outputs[0][input_ids.shape[-1]:], skip_special_tokens=True)\n",
    "    if text != pred.strip():\n",
    "        print(\"changed:\", id, \"from:\", text, \"to:\", pred.strip())\n",
    "    \n",
    "    return pred.strip()"
   ]
  },
  {
   "cell_type": "code",
   "metadata": {},
   "source": [
    "df[\"text_generated\"] = \"\"\n",
    "\n",
    "for i, row in tqdm(df.iterrows(), total=len(df)):\n",
    "    df.loc[i, \"text_generated\"] = gen_key(row[\"ID\"], row[\"text\"])"
   ],
   "outputs": [],
   "execution_count": null
  },
  {
   "cell_type": "code",
   "execution_count": 11,
   "metadata": {},
   "outputs": [],
   "source": [
    "df[\"text\"] = df[\"text_generated\"]\n",
    "df = df.drop(columns=[\"text_generated\"])\n",
    "df.to_csv(\"data/train_aug_gt8250_part1.csv\", index=False)"
   ]
  },
  {
   "cell_type": "code",
   "execution_count": 46,
   "metadata": {},
   "outputs": [],
   "source": [
    "df = pd.read_csv(\"data/train_aug_gt8250_part2.csv\")"
   ]
  },
  {
   "cell_type": "code",
   "execution_count": 48,
   "metadata": {},
   "outputs": [],
   "source": [
    "def process_text(text):\n",
    "    # 텍스트를 줄바꿈 문자로 분할\n",
    "    lines = text.split('\\n')\n",
    "    \n",
    "    # 결과를 저장할 리스트 초기화\n",
    "    processed_lines = []\n",
    "    \n",
    "    for line in lines:\n",
    "        # 줄 앞에 번호가 있는 경우 번호 제거\n",
    "        if line.strip().startswith(tuple(f\"{i}.\" for i in range(1, 10))):\n",
    "            line = line[line.find('.')+1:].strip()\n",
    "        \n",
    "        # 줄 앞에 '-'가 있는 경우 '-' 제거\n",
    "        line = line.replace('-', '').strip()\n",
    "        \n",
    "        # 처리된 줄을 리스트에 추가\n",
    "        processed_lines.append(line)\n",
    "    \n",
    "    # 처리된 텍스트를 반환\n",
    "    return [line for line in processed_lines if line]"
   ]
  },
  {
   "cell_type": "code",
   "execution_count": 49,
   "metadata": {},
   "outputs": [],
   "source": [
    "df[\"text\"] = df[\"text\"].apply(process_text)"
   ]
  },
  {
   "cell_type": "code",
   "execution_count": 50,
   "metadata": {},
   "outputs": [],
   "source": [
    "exploded_data = df.explode(\"text\")"
   ]
  },
  {
   "cell_type": "code",
   "execution_count": 52,
   "metadata": {},
   "outputs": [],
   "source": [
    "# DataFrame의 길이 계산\n",
    "n = len(exploded_data)\n",
    "\n",
    "# 새로운 순서 인덱스 생성\n",
    "new_order = [i for i in range(0, n, 3)] + [i for i in range(1, n, 3)] + [i for i in range(2, n, 3)]\n",
    "\n",
    "# DataFrame을 새로운 순서로 재배열\n",
    "reordered_data = exploded_data.iloc[new_order].reset_index(drop=True)"
   ]
  },
  {
   "cell_type": "code",
   "execution_count": null,
   "metadata": {},
   "outputs": [],
   "source": [
    "# DataFrame의 길이 계산\n",
    "n = len(exploded_data)\n",
    "\n",
    "# 새로운 순서 인덱스 생성\n",
    "new_order = [i for i in range(0, n, 3)] + [i for i in range(1, n, 3)] + [i for i in range(2, n, 3)]\n",
    "\n",
    "# DataFrame을 새로운 순서로 재배열\n",
    "reordered_data = exploded_data.iloc[new_order].reset_index(drop=True)"
   ]
  },
  {
   "cell_type": "code",
   "execution_count": 54,
   "metadata": {},
   "outputs": [],
   "source": [
    "part1 = pd.read_csv(\"data/train_aug_gt8250_part1_reordered.csv\")\n",
    "part2 = pd.read_csv(\"data/train_aug_gt8250_part2_reordered.csv\")"
   ]
  },
  {
   "cell_type": "code",
   "execution_count": 55,
   "metadata": {},
   "outputs": [],
   "source": [
    "# 두 데이터프레임을 연결\n",
    "\n",
    "df = pd.concat([part1, part2], ignore_index=True)"
   ]
  },
  {
   "cell_type": "code",
   "execution_count": 57,
   "metadata": {},
   "outputs": [],
   "source": [
    "df.to_csv(\"data/train_aug_gt8250_reordered_all.csv\", index=False)"
   ]
  }
 ],
 "metadata": {
  "kernelspec": {
   "display_name": "base",
   "language": "python",
   "name": "python3"
  },
  "language_info": {
   "codemirror_mode": {
    "name": "ipython",
    "version": 3
   },
   "file_extension": ".py",
   "mimetype": "text/x-python",
   "name": "python",
   "nbconvert_exporter": "python",
   "pygments_lexer": "ipython3",
   "version": "3.10.13"
  }
 },
 "nbformat": 4,
 "nbformat_minor": 2
}
