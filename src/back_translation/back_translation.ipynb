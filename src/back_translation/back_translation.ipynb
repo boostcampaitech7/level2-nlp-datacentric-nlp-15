{
 "cells": [
  {
   "cell_type": "code",
   "execution_count": 5,
   "metadata": {},
   "outputs": [],
   "source": [
    "import pandas as pd\n",
    "import deepl\n",
    "from tqdm import tqdm\n",
    "import time\n",
    "\n",
    "# DeepL API 키 설정\n",
    "translator = deepl.Translator(\"YOUR_API_KEY\")\n",
    "\n",
    "# CSV 파일 읽기\n",
    "df = pd.read_csv('')\n",
    "\n",
    "def translate_batch(texts, batch_size=10):\n",
    "    translations = []\n",
    "    for i in range(0, len(texts), batch_size):\n",
    "        batch = texts[i:i+batch_size]\n",
    "        try:\n",
    "            # API 호출 제한을 피하기 위한 딜레이\n",
    "            time.sleep(0.1)\n",
    "            # 배치 번역\n",
    "            results = translator.translate_text(batch, source_lang=\"EN\", target_lang=\"KO\")\n",
    "            translations.extend([result.text for result in results])\n",
    "        except Exception as e:\n",
    "            print(f\"Error in batch starting at index {i}\")\n",
    "            print(f\"Error message: {str(e)}\")\n",
    "            # 에러 발생시 원본 텍스트 사용\n",
    "            translations.extend(batch)\n",
    "    return translations\n"
   ]
  },
  {
   "cell_type": "code",
   "execution_count": null,
   "metadata": {},
   "outputs": [],
   "source": [
    "# 진행상황 표시하면서 배치 단위로 번역\n",
    "texts = df['text'].tolist()\n",
    "batch_size = 10  # 배치 크기 조정 가능\n",
    "num_batches = (len(texts) + batch_size - 1) // batch_size\n",
    "\n",
    "translated_texts = []\n",
    "for i in tqdm(range(0, len(texts), batch_size), total=num_batches, desc=\"Translating batches\"):\n",
    "   batch = texts[i:i+batch_size]\n",
    "   translations = translate_batch(batch)\n",
    "   translated_texts.extend(translations)\n",
    "   \n",
    "   # 매 50개 샘플마다 중간 결과 확인 및 저장\n",
    "   if i % (batch_size * 5) == 0 and i > 0:  # 50개 샘플 = batch_size(10) * 5\n",
    "       print(f\"\\nProgress check at batch {i//batch_size}:\")\n",
    "       print(\"\\nOriginal vs Translated examples:\")\n",
    "       for orig, trans in zip(batch[:3], translations[-3:]):\n",
    "           print(f\"\\nOriginal: {orig}\")\n",
    "           print(f\"Translated: {trans}\")\n",
    "       print(\"\\n\" + \"=\"*50)\n",
    "       \n",
    "       # 현재까지의 번역 결과를 데이터프레임에 업데이트\n",
    "       temp_df = df.copy()\n",
    "       temp_df.loc[:len(translated_texts)-1, 'text'] = translated_texts\n",
    "       \n",
    "       # 중간 결과 저장\n",
    "       temp_df.to_csv('', index=False)\n",
    "       print(f\"\\nIntermediate results saved at sample {len(translated_texts)}\")\n",
    "\n",
    "# 최종 데이터프레임 업데이트\n",
    "df['text'] = translated_texts\n",
    "\n",
    "# 최종 결과 저장\n",
    "df.to_csv('', index=False)\n",
    "print(\"\\nFinal results saved.\")\n",
    "\n",
    "# 최종 결과 확인\n",
    "print(\"\\nFinal result check (first 5 rows):\")\n",
    "print(df[['text']].head())"
   ]
  },
  {
   "cell_type": "code",
   "execution_count": null,
   "metadata": {},
   "outputs": [],
   "source": [
    "# 번역된 텍스트의 기본 통계\n",
    "print(\"\\nTranslated text statistics:\")\n",
    "print(f\"Total number of translated texts: {len(df)}\")\n",
    "print(f\"Average length of translated texts: {df['text'].str.len().mean():.1f} characters\")"
   ]
  }
 ],
 "metadata": {
  "kernelspec": {
   "display_name": "Python 3.10 (Conda base)",
   "language": "python",
   "name": "base"
  }
 },
 "nbformat": 4,
 "nbformat_minor": 2
}
