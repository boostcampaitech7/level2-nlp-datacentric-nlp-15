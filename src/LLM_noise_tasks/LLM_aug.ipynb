{
 "cells": [
  {
   "cell_type": "code",
   "execution_count": null,
   "metadata": {},
   "outputs": [],
   "source": [
    "import os\n",
    "import json\n",
    "import torch\n",
    "import pandas as pd\n",
    "\n",
    "from transformers import AutoTokenizer, AutoModelForCausalLM"
   ]
  },
  {
   "cell_type": "code",
   "execution_count": null,
   "metadata": {},
   "outputs": [],
   "source": [
    "model_name = \"LGAI-EXAONE/EXAONE-3.0-7.8B-Instruct\"  #\"rtzr/ko-gemma-2-9b-it\" #\"yanolja/EEVE-Korean-Instruct-10.8B-v1.0\" \n",
    "\n",
    "device = 'cuda' if torch.cuda.is_available() else 'cpu'\n",
    "\n",
    "llm = AutoModelForCausalLM.from_pretrained(\n",
    "    model_name,\n",
    "    torch_dtype=torch.bfloat16,\n",
    "    device_map=\"auto\",\n",
    "    trust_remote_code=True \n",
    ").to(device)\n",
    "tokenizer = AutoTokenizer.from_pretrained(model_name)\n",
    "llm.eval()"
   ]
  },
  {
   "cell_type": "code",
   "execution_count": null,
   "metadata": {},
   "outputs": [],
   "source": [
    "with open(\"../data/12000cleanlab+nannoise_8564.csv\", \"r\") as f:\n",
    "    df = pd.read_csv(f)\n",
    "df = df[7000:]"
   ]
  },
  {
   "cell_type": "code",
   "execution_count": null,
   "metadata": {},
   "outputs": [],
   "source": [
    "def augmentation(text: str):\n",
    "    messages = [\n",
    "    {\"role\": \"system\", \n",
    "    \"content\": \"당신은 신문 기자입니다. 당신은 신문 기사 제목을 새롭게 만드는 임무를 부여받았습니다. 당신에게 신문 기사 컨텍스트 하나가 주어질 때 해당 컨텍스트와 비슷한 의미를 가지고 있는 신문 기사 스타일의 컨텍스트 한 개를 출력해야합니다. 이 때 모든 설명을 붙이지 말고 새로 만든 기사 제목 한 개만 출력하세요.\"},\n",
    "    {\"role\": \"user\", \"content\": text}\n",
    "    ]\n",
    "    inputs = tokenizer.apply_chat_template(\n",
    "        messages,\n",
    "        tokenize=True,\n",
    "        add_generation_prompt=True,\n",
    "        return_tensors=\"pt\"\n",
    "    )\n",
    "    outputs = llm.generate(\n",
    "        inputs.to(device),\n",
    "        max_new_tokens=256,\n",
    "        eos_token_id=tokenizer.eos_token_id,\n",
    "        do_sample=True,\n",
    "        temperature=0.9,\n",
    "        top_p=0.9,\n",
    "    )\n",
    "\n",
    "    # prompt_template = \"Human: {prompt}\\nAssistant:\\n\"\n",
    "    # text2 = f\"당신은 신문 기자입니다. 당신은 신문 기사 제목을 새롭게 만드는 임무를 부여받았습니다. 당신에게 신문 기사 컨텍스트 하나가 주어질 때 해당 컨텍스트와 비슷한 의미를 가지고 있는 신문 기사 스타일의 컨텍스트 한 개를 출력해야합니다. 이 때 모든 설명을 붙이지 말고 새로 만든 기사 제목 한 개만 출력하세요.{text}\"\n",
    "    # inputs = tokenizer(prompt_template.format(prompt=text2), return_tensors='pt')\n",
    "    # outputs = llm.generate(\n",
    "    #     **inputs.to(device),\n",
    "    #     max_new_tokens=256,\n",
    "    #     eos_token_id=tokenizer.eos_token_id,\n",
    "    #     do_sample=True,\n",
    "    #     temperature=0.1,\n",
    "    #     top_p=0.9,\n",
    "    # )\n",
    "\n",
    "    generated_text = tokenizer.decode(outputs[0], skip_special_tokens=True)\n",
    "    # print(generated_text)\n",
    "\n",
    "    # result = generated_text.split(\"Assistant:\")[-1].strip()\n",
    "    result = generated_text.split(\"[|assistant|]\")[-1].strip()\n",
    "        \n",
    "    # result = tokenizer.decode(outputs[0][inputs.shape[-1]:], skip_special_tokens=True)\n",
    "    \n",
    "    return result"
   ]
  },
  {
   "cell_type": "code",
   "execution_count": null,
   "metadata": {},
   "outputs": [],
   "source": [
    "from tqdm.notebook import tqdm \n",
    "\n",
    "augmented_data = []\n",
    "for idx, row in tqdm(df.iterrows(), desc=\"Augmented\", total=len(df)):\n",
    "    text = row['text']\n",
    "    print(f\"########################### ORIGINAL TEXT {idx}  \\\"{text}\\\"\")\n",
    "    for i in range(1):\n",
    "        result = augmentation(text)\n",
    "        augmented_data.append({\n",
    "            'ID': row['ID'],\n",
    "            'text': result,\n",
    "            'target': row['target']\n",
    "        })\n",
    "        print(result)\n"
   ]
  },
  {
   "cell_type": "code",
   "execution_count": null,
   "metadata": {},
   "outputs": [],
   "source": [
    "augmented_doc = pd.DataFrame(augmented_data).sample(frac=1).reset_index(drop=True)\n",
    "augmented_df = pd.concat([df, augmented_doc]).sample(frac=1).reset_index(drop=True)\n",
    "augmented_df.to_csv(\"../data/12000cleanlab+nannoise_8564_truc_aug.csv\", index=False, encoding=\"utf-8-sig\")"
   ]
  },
  {
   "cell_type": "code",
   "execution_count": null,
   "metadata": {},
   "outputs": [],
   "source": [
    "with open(\"../data/12000cleanlab+nannoise_8564_truc_aug.csv\", \"r\") as f:\n",
    "    df2 = pd.read_csv(f)\n",
    "\n",
    "print(len(df2))"
   ]
  }
 ],
 "metadata": {
  "kernelspec": {
   "display_name": "base",
   "language": "python",
   "name": "python3"
  },
  "language_info": {
   "codemirror_mode": {
    "name": "ipython",
    "version": 3
   },
   "file_extension": ".py",
   "mimetype": "text/x-python",
   "name": "python",
   "nbconvert_exporter": "python",
   "pygments_lexer": "ipython3",
   "version": "3.10.13"
  }
 },
 "nbformat": 4,
 "nbformat_minor": 2
}
