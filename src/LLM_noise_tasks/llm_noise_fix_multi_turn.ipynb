{
 "cells": [
  {
   "cell_type": "code",
   "execution_count": 1,
   "metadata": {},
   "outputs": [],
   "source": [
    "import pandas as pd"
   ]
  },
  {
   "cell_type": "code",
   "metadata": {},
   "source": [
    "df = pd.read_csv(\"data/train.csv\")\n",
    "df"
   ],
   "outputs": [],
   "execution_count": null
  },
  {
   "cell_type": "code",
   "execution_count": 3,
   "metadata": {},
   "outputs": [],
   "source": [
    "import re\n",
    "\n",
    "def contains_lowercase_or_special(text):\n",
    "    # 영어 소문자 포함 여부\n",
    "    lowercase_present = bool(re.search(r'[a-z]', text))\n",
    "    # '...' 이외의 특수기호 포함 여부 (한글과 영어, 숫자, 공백, 마침표만 허용)\n",
    "    special_chars_present = bool(re.search(r'[^A-Z0-9ㄱ-ㅎ가-힣.\\s]', text)) \\\n",
    "        and '...' not in text and '…' not in text and '·' not in text \\\n",
    "        and '美' not in text and '中' not in text and '日' not in text\n",
    "    return lowercase_present or special_chars_present\n",
    "\n",
    "# 새로운 컬럼 생성\n",
    "df['need_clean'] = df['text'].apply(contains_lowercase_or_special)"
   ]
  },
  {
   "cell_type": "code",
   "execution_count": 4,
   "metadata": {},
   "outputs": [
    {
     "data": {
      "text/plain": [
       "need_clean\n",
       "True     1643\n",
       "False    1157\n",
       "Name: count, dtype: int64"
      ]
     },
     "execution_count": 4,
     "metadata": {},
     "output_type": "execute_result"
    }
   ],
   "source": [
    "df['need_clean'].value_counts()"
   ]
  },
  {
   "cell_type": "code",
   "execution_count": 5,
   "metadata": {},
   "outputs": [
    {
     "name": "stderr",
     "output_type": "stream",
     "text": [
      "/opt/conda/lib/python3.10/site-packages/tqdm/auto.py:21: TqdmWarning: IProgress not found. Please update jupyter and ipywidgets. See https://ipywidgets.readthedocs.io/en/stable/user_install.html\n",
      "  from .autonotebook import tqdm as notebook_tqdm\n",
      "Loading checkpoint shards: 100%|██████████| 10/10 [00:06<00:00,  1.57it/s]\n"
     ]
    },
    {
     "data": {
      "text/plain": [
       "Gemma2ForCausalLM(\n",
       "  (model): Gemma2Model(\n",
       "    (embed_tokens): Embedding(256000, 3584, padding_idx=0)\n",
       "    (layers): ModuleList(\n",
       "      (0-41): 42 x Gemma2DecoderLayer(\n",
       "        (self_attn): Gemma2Attention(\n",
       "          (q_proj): Linear(in_features=3584, out_features=4096, bias=False)\n",
       "          (k_proj): Linear(in_features=3584, out_features=2048, bias=False)\n",
       "          (v_proj): Linear(in_features=3584, out_features=2048, bias=False)\n",
       "          (o_proj): Linear(in_features=4096, out_features=3584, bias=False)\n",
       "          (rotary_emb): Gemma2RotaryEmbedding()\n",
       "        )\n",
       "        (mlp): Gemma2MLP(\n",
       "          (gate_proj): Linear(in_features=3584, out_features=14336, bias=False)\n",
       "          (up_proj): Linear(in_features=3584, out_features=14336, bias=False)\n",
       "          (down_proj): Linear(in_features=14336, out_features=3584, bias=False)\n",
       "          (act_fn): PytorchGELUTanh()\n",
       "        )\n",
       "        (input_layernorm): Gemma2RMSNorm((3584,), eps=1e-06)\n",
       "        (pre_feedforward_layernorm): Gemma2RMSNorm((3584,), eps=1e-06)\n",
       "        (post_feedforward_layernorm): Gemma2RMSNorm((3584,), eps=1e-06)\n",
       "        (post_attention_layernorm): Gemma2RMSNorm((3584,), eps=1e-06)\n",
       "      )\n",
       "    )\n",
       "    (norm): Gemma2RMSNorm((3584,), eps=1e-06)\n",
       "  )\n",
       "  (lm_head): Linear(in_features=3584, out_features=256000, bias=False)\n",
       ")"
      ]
     },
     "execution_count": 5,
     "metadata": {},
     "output_type": "execute_result"
    }
   ],
   "source": [
    "import torch\n",
    "from transformers import AutoTokenizer, AutoModelForCausalLM\n",
    "\n",
    "\n",
    "model_id = \"rtzr/ko-gemma-2-9b-it\"\n",
    "\n",
    "tokenizer = AutoTokenizer.from_pretrained(model_id)\n",
    "model = AutoModelForCausalLM.from_pretrained(\n",
    "    model_id,\n",
    "    torch_dtype=torch.bfloat16,\n",
    "    device_map=\"auto\",\n",
    ")\n",
    "\n",
    "model.eval()"
   ]
  },
  {
   "cell_type": "code",
   "execution_count": 8,
   "metadata": {},
   "outputs": [],
   "source": [
    "instruction = \"\"\"뉴스 기사 제목을 노이즈가 없도록 완전히 복원하시오.\n",
    "답변에는 설명을 붙이지 마시오.\n",
    "\n",
    "### 제목 ###\n",
    "{}\"\"\""
   ]
  },
  {
   "cell_type": "code",
   "execution_count": 9,
   "metadata": {},
   "outputs": [],
   "source": [
    "from tqdm import tqdm"
   ]
  },
  {
   "cell_type": "code",
   "execution_count": 19,
   "metadata": {},
   "outputs": [],
   "source": [
    "def change_noise(id, text):\n",
    "    max_attempts = 5  # Maximum number of attempts to prevent infinite loops\n",
    "    attempt = 0\n",
    "    messages = [\n",
    "        {\"role\": \"user\", \"content\": instruction.format(text)},\n",
    "    ]\n",
    "\n",
    "    while attempt < max_attempts:\n",
    "        input_ids = tokenizer.apply_chat_template(\n",
    "            messages,\n",
    "            add_generation_prompt=True,\n",
    "            return_tensors=\"pt\"\n",
    "        ).to(model.device)\n",
    "\n",
    "        terminators = [\n",
    "            tokenizer.eos_token_id,\n",
    "            tokenizer.convert_tokens_to_ids(\"<end_of_turn>\")\n",
    "        ]\n",
    "\n",
    "        outputs = model.generate(\n",
    "            input_ids,\n",
    "            max_new_tokens=2048,\n",
    "            eos_token_id=terminators,\n",
    "            do_sample=True,\n",
    "            temperature=0.1,\n",
    "            top_p=0.9,\n",
    "        )\n",
    "\n",
    "        pred = tokenizer.decode(outputs[0][input_ids.shape[-1]:], skip_special_tokens=True).strip()\n",
    "\n",
    "        if text != pred:\n",
    "            print(\"changed:\", id, \"from:\", text, \"to:\", pred)\n",
    "\n",
    "        if not contains_lowercase_or_special(pred):\n",
    "            return pred  # Return the corrected text if it passes the test\n",
    "\n",
    "        # Append \"다시 수정하시오.\" to the messages for the next iteration\n",
    "        messages.append({\"role\": \"user\", \"content\": f\"노이즈가 없도록 수정하시오. 중간의 숫자나 불필요한 기호를 제거하고 풍부한 표현을 생성할 수 있다. \\n ### 수정 필요문 ### \\n {pred}\"})\n",
    "        attempt += 1\n",
    "\n",
    "    # Return the last prediction if maximum attempts are reached\n",
    "    return pred"
   ]
  },
  {
   "cell_type": "code",
   "metadata": {},
   "source": [
    "df[\"text_after\"] = \"\"\n",
    "\n",
    "for i, row in tqdm(df.iterrows(), total=len(df)):\n",
    "    if row[\"need_clean\"]:\n",
    "        df.loc[i, \"text_after\"] = change_noise(row[\"ID\"], row[\"text\"])\n",
    "    else:\n",
    "        df.loc[i, \"text_after\"] = row[\"text\"]"
   ],
   "outputs": [],
   "execution_count": null
  },
  {
   "cell_type": "code",
   "metadata": {},
   "source": [
    "df"
   ],
   "outputs": [],
   "execution_count": null
  },
  {
   "cell_type": "code",
   "execution_count": 22,
   "metadata": {},
   "outputs": [],
   "source": [
    "df = df.drop(columns=[\"need_clean\", \"text\"])\n",
    "df = df.rename(columns={\"text_after\": \"text\"})\n",
    "df = df[[\"ID\", \"text\", \"target\"]]\n",
    "df.to_csv(\"data/train_cleaned_multiturn.csv\", index=False)"
   ]
  },
  {
   "cell_type": "code",
   "execution_count": 24,
   "metadata": {},
   "outputs": [],
   "source": [
    "# \\n이 있으면 split해서 -1번째를 가져옴\n",
    "df['text_after'] = df['text'].apply(lambda x: x.split('\\n')[-1])"
   ]
  },
  {
   "cell_type": "code",
   "execution_count": 26,
   "metadata": {},
   "outputs": [],
   "source": [
    "df_cleaned = df.drop(columns=[\"text\"])\n",
    "df_cleaned = df_cleaned.rename(columns={\"text_after\": \"text\"})\n",
    "df_cleaned = df_cleaned[[\"ID\", \"text\", \"target\"]]\n",
    "df_cleaned.to_csv(\"data/train_cleaned_multiturn_algo.csv\", index=False)"
   ]
  },
  {
   "cell_type": "code",
   "execution_count": null,
   "metadata": {},
   "outputs": [],
   "source": []
  }
 ],
 "metadata": {
  "kernelspec": {
   "display_name": "base",
   "language": "python",
   "name": "python3"
  },
  "language_info": {
   "codemirror_mode": {
    "name": "ipython",
    "version": 3
   },
   "file_extension": ".py",
   "mimetype": "text/x-python",
   "name": "python",
   "nbconvert_exporter": "python",
   "pygments_lexer": "ipython3",
   "version": "3.10.13"
  }
 },
 "nbformat": 4,
 "nbformat_minor": 2
}
